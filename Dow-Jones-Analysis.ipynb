{
 "cells": [
  {
   "cell_type": "markdown",
   "id": "cd0a48f3",
   "metadata": {},
   "source": [
    "   ### Dow Jones Index\n",
    "\n",
    "Source: https://archive.ics.uci.edu/ml/datasets/dow+jones+index\n",
    "\n",
    "Esse dataset foi retirado do repositório de Machine Learning do UCI com intuído de realizar a exploração dos dados, construir visualizações para entender mais sobre os dados e no fim construir um modelo de Classificação que traga uma boa taxa de acurácia.\n",
    "\n",
    "A idéia é prever a porcentagem de mudança dos preços para a próxima semana usando modelos de classificação "
   ]
  },
  {
   "cell_type": "code",
   "execution_count": 1,
   "id": "4b6d533f",
   "metadata": {},
   "outputs": [],
   "source": [
    "import pandas as pd\n",
    "from pandas import read_csv\n",
    "import matplotlib.pyplot as plt\n",
    "import seaborn as sns\n",
    "import warnings\n",
    "warnings.filterwarnings('ignore')\n",
    "%matplotlib inline"
   ]
  },
  {
   "cell_type": "code",
   "execution_count": 2,
   "id": "08131308",
   "metadata": {},
   "outputs": [
    {
     "name": "stdout",
     "output_type": "stream",
     "text": [
      "(750, 16)\n"
     ]
    }
   ],
   "source": [
    "arquivo = 'data/Dow_Jones_Stocks.csv'\n",
    "stock_analysis = read_csv(arquivo, encoding ='utf-8') # , index_col = 'date'\n",
    "print(stock_analysis.shape)"
   ]
  },
  {
   "cell_type": "code",
   "execution_count": 3,
   "id": "e717db46",
   "metadata": {},
   "outputs": [
    {
     "data": {
      "text/html": [
       "<div>\n",
       "<style scoped>\n",
       "    .dataframe tbody tr th:only-of-type {\n",
       "        vertical-align: middle;\n",
       "    }\n",
       "\n",
       "    .dataframe tbody tr th {\n",
       "        vertical-align: top;\n",
       "    }\n",
       "\n",
       "    .dataframe thead th {\n",
       "        text-align: right;\n",
       "    }\n",
       "</style>\n",
       "<table border=\"1\" class=\"dataframe\">\n",
       "  <thead>\n",
       "    <tr style=\"text-align: right;\">\n",
       "      <th></th>\n",
       "      <th>quarter</th>\n",
       "      <th>stock</th>\n",
       "      <th>date</th>\n",
       "      <th>open</th>\n",
       "      <th>high</th>\n",
       "      <th>low</th>\n",
       "      <th>close</th>\n",
       "      <th>volume</th>\n",
       "      <th>percent_change_price</th>\n",
       "      <th>percent_change_volume_over_last_wk</th>\n",
       "      <th>previous_weeks_volume</th>\n",
       "      <th>next_weeks_open</th>\n",
       "      <th>next_weeks_close</th>\n",
       "      <th>percent_change_next_weeks_price</th>\n",
       "      <th>days_to_next_dividend</th>\n",
       "      <th>percent_return_next_dividend</th>\n",
       "    </tr>\n",
       "  </thead>\n",
       "  <tbody>\n",
       "    <tr>\n",
       "      <th>0</th>\n",
       "      <td>1</td>\n",
       "      <td>AA</td>\n",
       "      <td>07-01-11</td>\n",
       "      <td>15.82</td>\n",
       "      <td>16.72</td>\n",
       "      <td>15.78</td>\n",
       "      <td>16.42</td>\n",
       "      <td>239655616</td>\n",
       "      <td>3.79267</td>\n",
       "      <td>NaN</td>\n",
       "      <td>NaN</td>\n",
       "      <td>16.71</td>\n",
       "      <td>15.97</td>\n",
       "      <td>-4.428490</td>\n",
       "      <td>26</td>\n",
       "      <td>0.182704</td>\n",
       "    </tr>\n",
       "    <tr>\n",
       "      <th>1</th>\n",
       "      <td>1</td>\n",
       "      <td>AA</td>\n",
       "      <td>14-01-11</td>\n",
       "      <td>16.71</td>\n",
       "      <td>16.71</td>\n",
       "      <td>15.64</td>\n",
       "      <td>15.97</td>\n",
       "      <td>242963398</td>\n",
       "      <td>-4.42849</td>\n",
       "      <td>1.380223</td>\n",
       "      <td>239655616.0</td>\n",
       "      <td>16.19</td>\n",
       "      <td>15.79</td>\n",
       "      <td>-2.470660</td>\n",
       "      <td>19</td>\n",
       "      <td>0.187852</td>\n",
       "    </tr>\n",
       "    <tr>\n",
       "      <th>2</th>\n",
       "      <td>1</td>\n",
       "      <td>AA</td>\n",
       "      <td>21-01-11</td>\n",
       "      <td>16.19</td>\n",
       "      <td>16.38</td>\n",
       "      <td>15.60</td>\n",
       "      <td>15.79</td>\n",
       "      <td>138428495</td>\n",
       "      <td>-2.47066</td>\n",
       "      <td>-43.024959</td>\n",
       "      <td>242963398.0</td>\n",
       "      <td>15.87</td>\n",
       "      <td>16.13</td>\n",
       "      <td>1.638310</td>\n",
       "      <td>12</td>\n",
       "      <td>0.189994</td>\n",
       "    </tr>\n",
       "    <tr>\n",
       "      <th>3</th>\n",
       "      <td>1</td>\n",
       "      <td>AA</td>\n",
       "      <td>28-01-11</td>\n",
       "      <td>15.87</td>\n",
       "      <td>16.63</td>\n",
       "      <td>15.82</td>\n",
       "      <td>16.13</td>\n",
       "      <td>151379173</td>\n",
       "      <td>1.63831</td>\n",
       "      <td>9.355500</td>\n",
       "      <td>138428495.0</td>\n",
       "      <td>16.18</td>\n",
       "      <td>17.14</td>\n",
       "      <td>5.933250</td>\n",
       "      <td>5</td>\n",
       "      <td>0.185989</td>\n",
       "    </tr>\n",
       "    <tr>\n",
       "      <th>4</th>\n",
       "      <td>1</td>\n",
       "      <td>AA</td>\n",
       "      <td>04-02-11</td>\n",
       "      <td>16.18</td>\n",
       "      <td>17.39</td>\n",
       "      <td>16.18</td>\n",
       "      <td>17.14</td>\n",
       "      <td>154387761</td>\n",
       "      <td>5.93325</td>\n",
       "      <td>1.987452</td>\n",
       "      <td>151379173.0</td>\n",
       "      <td>17.33</td>\n",
       "      <td>17.37</td>\n",
       "      <td>0.230814</td>\n",
       "      <td>97</td>\n",
       "      <td>0.175029</td>\n",
       "    </tr>\n",
       "  </tbody>\n",
       "</table>\n",
       "</div>"
      ],
      "text/plain": [
       "   quarter stock      date   open   high    low  close     volume  \\\n",
       "0        1    AA  07-01-11  15.82  16.72  15.78  16.42  239655616   \n",
       "1        1    AA  14-01-11  16.71  16.71  15.64  15.97  242963398   \n",
       "2        1    AA  21-01-11  16.19  16.38  15.60  15.79  138428495   \n",
       "3        1    AA  28-01-11  15.87  16.63  15.82  16.13  151379173   \n",
       "4        1    AA  04-02-11  16.18  17.39  16.18  17.14  154387761   \n",
       "\n",
       "   percent_change_price  percent_change_volume_over_last_wk  \\\n",
       "0               3.79267                                 NaN   \n",
       "1              -4.42849                            1.380223   \n",
       "2              -2.47066                          -43.024959   \n",
       "3               1.63831                            9.355500   \n",
       "4               5.93325                            1.987452   \n",
       "\n",
       "   previous_weeks_volume  next_weeks_open  next_weeks_close  \\\n",
       "0                    NaN            16.71             15.97   \n",
       "1            239655616.0            16.19             15.79   \n",
       "2            242963398.0            15.87             16.13   \n",
       "3            138428495.0            16.18             17.14   \n",
       "4            151379173.0            17.33             17.37   \n",
       "\n",
       "   percent_change_next_weeks_price  days_to_next_dividend  \\\n",
       "0                        -4.428490                     26   \n",
       "1                        -2.470660                     19   \n",
       "2                         1.638310                     12   \n",
       "3                         5.933250                      5   \n",
       "4                         0.230814                     97   \n",
       "\n",
       "   percent_return_next_dividend  \n",
       "0                      0.182704  \n",
       "1                      0.187852  \n",
       "2                      0.189994  \n",
       "3                      0.185989  \n",
       "4                      0.175029  "
      ]
     },
     "execution_count": 3,
     "metadata": {},
     "output_type": "execute_result"
    }
   ],
   "source": [
    "stock_analysis.head()"
   ]
  },
  {
   "cell_type": "code",
   "execution_count": 4,
   "id": "863a0da3",
   "metadata": {},
   "outputs": [
    {
     "data": {
      "text/plain": [
       "quarter                                0\n",
       "stock                                  0\n",
       "date                                   0\n",
       "open                                   0\n",
       "high                                   0\n",
       "low                                    0\n",
       "close                                  0\n",
       "volume                                 0\n",
       "percent_change_price                   0\n",
       "percent_change_volume_over_last_wk    30\n",
       "previous_weeks_volume                 30\n",
       "next_weeks_open                        0\n",
       "next_weeks_close                       0\n",
       "percent_change_next_weeks_price        0\n",
       "days_to_next_dividend                  0\n",
       "percent_return_next_dividend           0\n",
       "dtype: int64"
      ]
     },
     "execution_count": 4,
     "metadata": {},
     "output_type": "execute_result"
    }
   ],
   "source": [
    "stock_analysis.isna().sum()"
   ]
  },
  {
   "cell_type": "code",
   "execution_count": 5,
   "id": "b24fb0ff",
   "metadata": {},
   "outputs": [],
   "source": [
    "# Removendo as colunas que não utilizarei para o modelo \n",
    "stock_analysis.drop(['date', 'open', 'close', 'high', 'low', 'volume', 'previous_weeks_volume', \n",
    "                    'next_weeks_open', 'next_weeks_close', 'percent_return_next_dividend'], axis = 1, inplace = True)"
   ]
  },
  {
   "cell_type": "code",
   "execution_count": 6,
   "id": "bb2fd86f",
   "metadata": {},
   "outputs": [],
   "source": [
    "# Removendo os dados NaN\n",
    "df = stock_analysis.dropna(subset=['percent_change_volume_over_last_wk'])"
   ]
  },
  {
   "cell_type": "code",
   "execution_count": 7,
   "id": "0b18495f",
   "metadata": {},
   "outputs": [
    {
     "data": {
      "text/plain": [
       "quarter                                 int64\n",
       "stock                                  object\n",
       "percent_change_price                  float64\n",
       "percent_change_volume_over_last_wk    float64\n",
       "percent_change_next_weeks_price       float64\n",
       "days_to_next_dividend                   int64\n",
       "dtype: object"
      ]
     },
     "execution_count": 7,
     "metadata": {},
     "output_type": "execute_result"
    }
   ],
   "source": [
    "# Verificando os tipos de dados \n",
    "df.dtypes"
   ]
  },
  {
   "cell_type": "code",
   "execution_count": 8,
   "id": "c8c7356d",
   "metadata": {},
   "outputs": [
    {
     "data": {
      "text/html": [
       "<div>\n",
       "<style scoped>\n",
       "    .dataframe tbody tr th:only-of-type {\n",
       "        vertical-align: middle;\n",
       "    }\n",
       "\n",
       "    .dataframe tbody tr th {\n",
       "        vertical-align: top;\n",
       "    }\n",
       "\n",
       "    .dataframe thead th {\n",
       "        text-align: right;\n",
       "    }\n",
       "</style>\n",
       "<table border=\"1\" class=\"dataframe\">\n",
       "  <thead>\n",
       "    <tr style=\"text-align: right;\">\n",
       "      <th></th>\n",
       "      <th>quarter</th>\n",
       "      <th>percent_change_price</th>\n",
       "      <th>percent_change_volume_over_last_wk</th>\n",
       "      <th>percent_change_next_weeks_price</th>\n",
       "      <th>days_to_next_dividend</th>\n",
       "    </tr>\n",
       "  </thead>\n",
       "  <tbody>\n",
       "    <tr>\n",
       "      <th>quarter</th>\n",
       "      <td>1.000000</td>\n",
       "      <td>-0.076259</td>\n",
       "      <td>0.023662</td>\n",
       "      <td>0.000098</td>\n",
       "      <td>-0.020749</td>\n",
       "    </tr>\n",
       "    <tr>\n",
       "      <th>percent_change_price</th>\n",
       "      <td>-0.076259</td>\n",
       "      <td>1.000000</td>\n",
       "      <td>-0.234496</td>\n",
       "      <td>0.020639</td>\n",
       "      <td>-0.009060</td>\n",
       "    </tr>\n",
       "    <tr>\n",
       "      <th>percent_change_volume_over_last_wk</th>\n",
       "      <td>0.023662</td>\n",
       "      <td>-0.234496</td>\n",
       "      <td>1.000000</td>\n",
       "      <td>0.013181</td>\n",
       "      <td>-0.033348</td>\n",
       "    </tr>\n",
       "    <tr>\n",
       "      <th>percent_change_next_weeks_price</th>\n",
       "      <td>0.000098</td>\n",
       "      <td>0.020639</td>\n",
       "      <td>0.013181</td>\n",
       "      <td>1.000000</td>\n",
       "      <td>-0.028797</td>\n",
       "    </tr>\n",
       "    <tr>\n",
       "      <th>days_to_next_dividend</th>\n",
       "      <td>-0.020749</td>\n",
       "      <td>-0.009060</td>\n",
       "      <td>-0.033348</td>\n",
       "      <td>-0.028797</td>\n",
       "      <td>1.000000</td>\n",
       "    </tr>\n",
       "  </tbody>\n",
       "</table>\n",
       "</div>"
      ],
      "text/plain": [
       "                                     quarter  percent_change_price  \\\n",
       "quarter                             1.000000             -0.076259   \n",
       "percent_change_price               -0.076259              1.000000   \n",
       "percent_change_volume_over_last_wk  0.023662             -0.234496   \n",
       "percent_change_next_weeks_price     0.000098              0.020639   \n",
       "days_to_next_dividend              -0.020749             -0.009060   \n",
       "\n",
       "                                    percent_change_volume_over_last_wk  \\\n",
       "quarter                                                       0.023662   \n",
       "percent_change_price                                         -0.234496   \n",
       "percent_change_volume_over_last_wk                            1.000000   \n",
       "percent_change_next_weeks_price                               0.013181   \n",
       "days_to_next_dividend                                        -0.033348   \n",
       "\n",
       "                                    percent_change_next_weeks_price  \\\n",
       "quarter                                                    0.000098   \n",
       "percent_change_price                                       0.020639   \n",
       "percent_change_volume_over_last_wk                         0.013181   \n",
       "percent_change_next_weeks_price                            1.000000   \n",
       "days_to_next_dividend                                     -0.028797   \n",
       "\n",
       "                                    days_to_next_dividend  \n",
       "quarter                                         -0.020749  \n",
       "percent_change_price                            -0.009060  \n",
       "percent_change_volume_over_last_wk              -0.033348  \n",
       "percent_change_next_weeks_price                 -0.028797  \n",
       "days_to_next_dividend                            1.000000  "
      ]
     },
     "execution_count": 8,
     "metadata": {},
     "output_type": "execute_result"
    }
   ],
   "source": [
    "# Verificando a correlação dos dados utilizando o métod Pearson\n",
    "df.corr(method = 'pearson')"
   ]
  },
  {
   "cell_type": "code",
   "execution_count": 9,
   "id": "a0373a12",
   "metadata": {},
   "outputs": [
    {
     "data": {
      "text/plain": [
       "quarter                              -0.167598\n",
       "percent_change_price                 -0.414007\n",
       "percent_change_volume_over_last_wk    2.544001\n",
       "percent_change_next_weeks_price      -0.137200\n",
       "days_to_next_dividend                 2.967252\n",
       "dtype: float64"
      ]
     },
     "execution_count": 9,
     "metadata": {},
     "output_type": "execute_result"
    }
   ],
   "source": [
    "# Verificando a assimetria dos dados\n",
    "df.skew()"
   ]
  },
  {
   "cell_type": "code",
   "execution_count": 10,
   "id": "edafd32a",
   "metadata": {},
   "outputs": [
    {
     "data": {
      "text/html": [
       "<div>\n",
       "<style scoped>\n",
       "    .dataframe tbody tr th:only-of-type {\n",
       "        vertical-align: middle;\n",
       "    }\n",
       "\n",
       "    .dataframe tbody tr th {\n",
       "        vertical-align: top;\n",
       "    }\n",
       "\n",
       "    .dataframe thead th {\n",
       "        text-align: right;\n",
       "    }\n",
       "</style>\n",
       "<table border=\"1\" class=\"dataframe\">\n",
       "  <thead>\n",
       "    <tr style=\"text-align: right;\">\n",
       "      <th></th>\n",
       "      <th>quarter</th>\n",
       "      <th>percent_change_price</th>\n",
       "      <th>percent_change_volume_over_last_wk</th>\n",
       "      <th>percent_change_next_weeks_price</th>\n",
       "      <th>days_to_next_dividend</th>\n",
       "    </tr>\n",
       "  </thead>\n",
       "  <tbody>\n",
       "    <tr>\n",
       "      <th>count</th>\n",
       "      <td>720.000000</td>\n",
       "      <td>720.000000</td>\n",
       "      <td>720.000000</td>\n",
       "      <td>720.000000</td>\n",
       "      <td>720.000000</td>\n",
       "    </tr>\n",
       "    <tr>\n",
       "      <th>mean</th>\n",
       "      <td>1.541667</td>\n",
       "      <td>0.030140</td>\n",
       "      <td>5.593627</td>\n",
       "      <td>0.193309</td>\n",
       "      <td>52.259722</td>\n",
       "    </tr>\n",
       "    <tr>\n",
       "      <th>std</th>\n",
       "      <td>0.498607</td>\n",
       "      <td>2.504889</td>\n",
       "      <td>40.543478</td>\n",
       "      <td>2.663880</td>\n",
       "      <td>45.881968</td>\n",
       "    </tr>\n",
       "    <tr>\n",
       "      <th>min</th>\n",
       "      <td>1.000000</td>\n",
       "      <td>-15.422900</td>\n",
       "      <td>-61.433175</td>\n",
       "      <td>-15.422900</td>\n",
       "      <td>0.000000</td>\n",
       "    </tr>\n",
       "    <tr>\n",
       "      <th>25%</th>\n",
       "      <td>1.000000</td>\n",
       "      <td>-1.297355</td>\n",
       "      <td>-19.804284</td>\n",
       "      <td>-1.252413</td>\n",
       "      <td>24.000000</td>\n",
       "    </tr>\n",
       "    <tr>\n",
       "      <th>50%</th>\n",
       "      <td>2.000000</td>\n",
       "      <td>0.000000</td>\n",
       "      <td>0.512586</td>\n",
       "      <td>0.035998</td>\n",
       "      <td>47.000000</td>\n",
       "    </tr>\n",
       "    <tr>\n",
       "      <th>75%</th>\n",
       "      <td>2.000000</td>\n",
       "      <td>1.630870</td>\n",
       "      <td>21.800622</td>\n",
       "      <td>1.792650</td>\n",
       "      <td>69.250000</td>\n",
       "    </tr>\n",
       "    <tr>\n",
       "      <th>max</th>\n",
       "      <td>2.000000</td>\n",
       "      <td>9.882230</td>\n",
       "      <td>327.408924</td>\n",
       "      <td>9.882230</td>\n",
       "      <td>329.000000</td>\n",
       "    </tr>\n",
       "  </tbody>\n",
       "</table>\n",
       "</div>"
      ],
      "text/plain": [
       "          quarter  percent_change_price  percent_change_volume_over_last_wk  \\\n",
       "count  720.000000            720.000000                          720.000000   \n",
       "mean     1.541667              0.030140                            5.593627   \n",
       "std      0.498607              2.504889                           40.543478   \n",
       "min      1.000000            -15.422900                          -61.433175   \n",
       "25%      1.000000             -1.297355                          -19.804284   \n",
       "50%      2.000000              0.000000                            0.512586   \n",
       "75%      2.000000              1.630870                           21.800622   \n",
       "max      2.000000              9.882230                          327.408924   \n",
       "\n",
       "       percent_change_next_weeks_price  days_to_next_dividend  \n",
       "count                       720.000000             720.000000  \n",
       "mean                          0.193309              52.259722  \n",
       "std                           2.663880              45.881968  \n",
       "min                         -15.422900               0.000000  \n",
       "25%                          -1.252413              24.000000  \n",
       "50%                           0.035998              47.000000  \n",
       "75%                           1.792650              69.250000  \n",
       "max                           9.882230             329.000000  "
      ]
     },
     "execution_count": 10,
     "metadata": {},
     "output_type": "execute_result"
    }
   ],
   "source": [
    "# Verificando as medidas dos dados\n",
    "df.describe()"
   ]
  },
  {
   "cell_type": "code",
   "execution_count": 11,
   "id": "3d4bd01b",
   "metadata": {},
   "outputs": [
    {
     "data": {
      "text/plain": [
       "<AxesSubplot:xlabel='percent_change_next_weeks_price', ylabel='Density'>"
      ]
     },
     "execution_count": 11,
     "metadata": {},
     "output_type": "execute_result"
    },
    {
     "data": {
      "image/png": "[encoded data removed]",
      "text/plain": [
       "<Figure size 432x288 with 1 Axes>"
      ]
     },
     "metadata": {
      "needs_background": "light"
     },
     "output_type": "display_data"
    }
   ],
   "source": [
    "# Verificando se os dados estao normalizados\n",
    "from scipy import stats\n",
    "sns.distplot(df.percent_change_next_weeks_price, fit = stats.norm)"
   ]
  },
  {
   "cell_type": "code",
   "execution_count": 12,
   "id": "d70f32f6",
   "metadata": {},
   "outputs": [
    {
     "name": "stdout",
     "output_type": "stream",
     "text": [
      "\n",
      "Dados Normalizados: \n",
      "\n",
      " [[0.43447356]\n",
      " [0.51184246]\n",
      " [0.67421942]\n",
      " [0.84394548]\n",
      " [0.61859844]]\n"
     ]
    }
   ],
   "source": [
    "# Transformando os dados para a mesma escala\n",
    "\n",
    "from sklearn.preprocessing import MinMaxScaler\n",
    "\n",
    "array = df.values\n",
    "\n",
    "# Separando o array em componentes de input (X) e output (Y)\n",
    "X = array[:,2:3]\n",
    "Y = array[:,4]\n",
    "\n",
    "# Normalizando os dados\n",
    "scaler = MinMaxScaler(feature_range = (0,1))\n",
    "rescaledX = scaler.fit_transform(X)\n",
    "\n",
    "print(\"\\nDados Normalizados: \\n\\n\", rescaledX[0:5,:])"
   ]
  },
  {
   "cell_type": "code",
   "execution_count": 13,
   "id": "5237b1b6",
   "metadata": {},
   "outputs": [
    {
     "name": "stdout",
     "output_type": "stream",
     "text": [
      "A Acurácia do modelo é: 36.806%\n"
     ]
    }
   ],
   "source": [
    "from sklearn.model_selection import KFold\n",
    "from sklearn.linear_model import LogisticRegression\n",
    "from sklearn.model_selection import cross_val_score\n",
    "\n",
    "#array = df.values\n",
    "\n",
    "#X = array[:, 2:3]\n",
    "#Y = array[:,4]\n",
    "\n",
    "# Transformando y como tipo int\n",
    "Y = Y.astype('int')\n",
    "\n",
    "# Definindo os valores para o número de folds\n",
    "num_folds = 10\n",
    "seed = 0\n",
    "\n",
    "# Separando os dados em folds\n",
    "kfolds = KFold(num_folds, shuffle = True, random_state = seed)\n",
    "\n",
    "# Criando o modelo\n",
    "model = LogisticRegression()\n",
    "model.fit(rescaledX, Y)\n",
    "\n",
    "# Cross validation\n",
    "resultado = cross_val_score(model, rescaledX, Y, cv = kfolds)\n",
    "\n",
    "# Print do resultado\n",
    "print(\"A Acurácia do modelo é: %.3f%%\" % (resultado.mean() * 100))"
   ]
  },
  {
   "cell_type": "code",
   "execution_count": null,
   "id": "3ebb2a10",
   "metadata": {},
   "outputs": [],
   "source": []
  }
 ],
 "metadata": {
  "kernelspec": {
   "display_name": "Python 3 (ipykernel)",
   "language": "python",
   "name": "python3"
  },
  "language_info": {
   "codemirror_mode": {
    "name": "ipython",
    "version": 3
   },
   "file_extension": ".py",
   "mimetype": "text/x-python",
   "name": "python",
   "nbconvert_exporter": "python",
   "pygments_lexer": "ipython3",
   "version": "3.9.7"
  }
 },
 "nbformat": 4,
 "nbformat_minor": 5
}
